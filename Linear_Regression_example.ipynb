{
 "cells": [
  {
   "cell_type": "code",
   "execution_count": 1,
   "metadata": {},
   "outputs": [
    {
     "name": "stdout",
     "output_type": "stream",
     "text": [
      "Collecting package metadata (current_repodata.json): done\n",
      "Solving environment: done\n",
      "\n",
      "## Package Plan ##\n",
      "\n",
      "  environment location: /srv/conda/envs/notebook\n",
      "\n",
      "  added / updated specs:\n",
      "    - numpy==1.18.1\n",
      "\n",
      "\n",
      "The following packages will be downloaded:\n",
      "\n",
      "    package                    |            build\n",
      "    ---------------------------|-----------------\n",
      "    ca-certificates-2020.12.5  |       ha878542_0         137 KB  conda-forge\n",
      "    certifi-2020.12.5          |   py36h5fab9bb_1         143 KB  conda-forge\n",
      "    libblas-3.9.0              |       7_openblas          11 KB  conda-forge\n",
      "    libcblas-3.9.0             |       7_openblas          11 KB  conda-forge\n",
      "    libgcc-ng-9.3.0            |      h2828fa1_18         7.8 MB  conda-forge\n",
      "    libgfortran-ng-9.3.0       |      hff62375_18          22 KB  conda-forge\n",
      "    libgfortran5-9.3.0         |      hff62375_18         2.0 MB  conda-forge\n",
      "    libgomp-9.3.0              |      h2828fa1_18         376 KB  conda-forge\n",
      "    liblapack-3.9.0            |       7_openblas          11 KB  conda-forge\n",
      "    libopenblas-0.3.12         |pthreads_h4812303_1         8.9 MB  conda-forge\n",
      "    numpy-1.18.1               |   py36h7314795_1         5.2 MB  conda-forge\n",
      "    openssl-1.1.1i             |       h7f98852_0         2.1 MB  conda-forge\n",
      "    ------------------------------------------------------------\n",
      "                                           Total:        26.7 MB\n",
      "\n",
      "The following NEW packages will be INSTALLED:\n",
      "\n",
      "  libblas            conda-forge/linux-64::libblas-3.9.0-7_openblas\n",
      "  libcblas           conda-forge/linux-64::libcblas-3.9.0-7_openblas\n",
      "  libgfortran-ng     conda-forge/linux-64::libgfortran-ng-9.3.0-hff62375_18\n",
      "  libgfortran5       conda-forge/linux-64::libgfortran5-9.3.0-hff62375_18\n",
      "  liblapack          conda-forge/linux-64::liblapack-3.9.0-7_openblas\n",
      "  libopenblas        conda-forge/linux-64::libopenblas-0.3.12-pthreads_h4812303_1\n",
      "  numpy              conda-forge/linux-64::numpy-1.18.1-py36h7314795_1\n",
      "\n",
      "The following packages will be UPDATED:\n",
      "\n",
      "  ca-certificates                      2020.6.20-hecda079_0 --> 2020.12.5-ha878542_0\n",
      "  certifi                          2020.6.20-py36h9f0ad1d_0 --> 2020.12.5-py36h5fab9bb_1\n",
      "  libgcc-ng                                9.2.0-h24d8f2e_2 --> 9.3.0-h2828fa1_18\n",
      "  libgomp                                  9.2.0-h24d8f2e_2 --> 9.3.0-h2828fa1_18\n",
      "  openssl                                 1.1.1g-h516909a_0 --> 1.1.1i-h7f98852_0\n",
      "\n",
      "\n",
      "\n",
      "Downloading and Extracting Packages\n",
      "liblapack-3.9.0      | 11 KB     | ##################################### | 100% \n",
      "libcblas-3.9.0       | 11 KB     | ##################################### | 100% \n",
      "openssl-1.1.1i       | 2.1 MB    | ##################################### | 100% \n",
      "ca-certificates-2020 | 137 KB    | ##################################### | 100% \n",
      "certifi-2020.12.5    | 143 KB    | ##################################### | 100% \n",
      "libgomp-9.3.0        | 376 KB    | ##################################### | 100% \n",
      "libblas-3.9.0        | 11 KB     | ##################################### | 100% \n",
      "libgfortran5-9.3.0   | 2.0 MB    | ##################################### | 100% \n",
      "libgcc-ng-9.3.0      | 7.8 MB    | ##################################### | 100% \n",
      "libgfortran-ng-9.3.0 | 22 KB     | ##################################### | 100% \n",
      "numpy-1.18.1         | 5.2 MB    | ##################################### | 100% \n",
      "libopenblas-0.3.12   | 8.9 MB    | ##################################### | 100% \n",
      "Preparing transaction: done\n",
      "Verifying transaction: done\n",
      "Executing transaction: done\n",
      "\n",
      "Note: you may need to restart the kernel to use updated packages.\n"
     ]
    }
   ],
   "source": [
    "conda install numpy==1.18.1"
   ]
  },
  {
   "cell_type": "code",
   "execution_count": 2,
   "metadata": {},
   "outputs": [
    {
     "name": "stdout",
     "output_type": "stream",
     "text": [
      "Collecting package metadata (current_repodata.json): done\n",
      "Solving environment: done\n",
      "\n",
      "## Package Plan ##\n",
      "\n",
      "  environment location: /srv/conda/envs/notebook\n",
      "\n",
      "  added / updated specs:\n",
      "    - pandas==0.25.3\n",
      "\n",
      "\n",
      "The following packages will be downloaded:\n",
      "\n",
      "    package                    |            build\n",
      "    ---------------------------|-----------------\n",
      "    pandas-0.25.3              |   py36hb3f55d8_0        11.4 MB  conda-forge\n",
      "    pytz-2020.5                |     pyhd8ed1ab_0         244 KB  conda-forge\n",
      "    ------------------------------------------------------------\n",
      "                                           Total:        11.7 MB\n",
      "\n",
      "The following NEW packages will be INSTALLED:\n",
      "\n",
      "  pandas             conda-forge/linux-64::pandas-0.25.3-py36hb3f55d8_0\n",
      "  pytz               conda-forge/noarch::pytz-2020.5-pyhd8ed1ab_0\n",
      "\n",
      "\n",
      "\n",
      "Downloading and Extracting Packages\n",
      "pytz-2020.5          | 244 KB    | ##################################### | 100% \n",
      "pandas-0.25.3        | 11.4 MB   | ##################################### | 100% \n",
      "Preparing transaction: done\n",
      "Verifying transaction: done\n",
      "Executing transaction: done\n",
      "\n",
      "Note: you may need to restart the kernel to use updated packages.\n"
     ]
    }
   ],
   "source": [
    "conda install pandas==0.25.3"
   ]
  },
  {
   "cell_type": "code",
   "execution_count": 3,
   "metadata": {},
   "outputs": [
    {
     "name": "stdout",
     "output_type": "stream",
     "text": [
      "Collecting package metadata (current_repodata.json): done\n",
      "Solving environment: done\n",
      "\n",
      "## Package Plan ##\n",
      "\n",
      "  environment location: /srv/conda/envs/notebook\n",
      "\n",
      "  added / updated specs:\n",
      "    - cycler==0.10.0\n",
      "\n",
      "\n",
      "The following packages will be downloaded:\n",
      "\n",
      "    package                    |            build\n",
      "    ---------------------------|-----------------\n",
      "    cycler-0.10.0              |             py_2           9 KB  conda-forge\n",
      "    ------------------------------------------------------------\n",
      "                                           Total:           9 KB\n",
      "\n",
      "The following NEW packages will be INSTALLED:\n",
      "\n",
      "  cycler             conda-forge/noarch::cycler-0.10.0-py_2\n",
      "\n",
      "\n",
      "\n",
      "Downloading and Extracting Packages\n",
      "cycler-0.10.0        | 9 KB      | ##################################### | 100% \n",
      "Preparing transaction: done\n",
      "Verifying transaction: done\n",
      "Executing transaction: done\n",
      "\n",
      "Note: you may need to restart the kernel to use updated packages.\n"
     ]
    }
   ],
   "source": [
    "conda install cycler==0.10.0"
   ]
  },
  {
   "cell_type": "code",
   "execution_count": 4,
   "metadata": {},
   "outputs": [
    {
     "name": "stdout",
     "output_type": "stream",
     "text": [
      "Collecting package metadata (current_repodata.json): done\n",
      "Solving environment: failed with initial frozen solve. Retrying with flexible solve.\n",
      "Collecting package metadata (repodata.json): done\n",
      "Solving environment: failed with initial frozen solve. Retrying with flexible solve.\n",
      "\n",
      "PackagesNotFoundError: The following packages are not available from current channels:\n",
      "\n",
      "  - matplotlib==2.0.0\n",
      "\n",
      "Current channels:\n",
      "\n",
      "  - https://conda.anaconda.org/conda-forge/linux-64\n",
      "  - https://conda.anaconda.org/conda-forge/noarch\n",
      "  - https://repo.anaconda.com/pkgs/main/linux-64\n",
      "  - https://repo.anaconda.com/pkgs/main/noarch\n",
      "  - https://repo.anaconda.com/pkgs/r/linux-64\n",
      "  - https://repo.anaconda.com/pkgs/r/noarch\n",
      "\n",
      "To search for alternate channels that may provide the conda package you're\n",
      "looking for, navigate to\n",
      "\n",
      "    https://anaconda.org\n",
      "\n",
      "and use the search bar at the top of the page.\n",
      "\n",
      "\n",
      "\n",
      "Note: you may need to restart the kernel to use updated packages.\n"
     ]
    }
   ],
   "source": [
    "conda install matplotlib==2.0.0"
   ]
  },
  {
   "cell_type": "code",
   "execution_count": 5,
   "metadata": {},
   "outputs": [
    {
     "name": "stdout",
     "output_type": "stream",
     "text": [
      "Collecting package metadata (current_repodata.json): done\n",
      "Solving environment: failed with initial frozen solve. Retrying with flexible solve.\n",
      "Collecting package metadata (repodata.json): done\n",
      "Solving environment: done\n",
      "\n",
      "## Package Plan ##\n",
      "\n",
      "  environment location: /srv/conda/envs/notebook\n",
      "\n",
      "  added / updated specs:\n",
      "    - scipy==1.2.0\n",
      "\n",
      "\n",
      "The following packages will be downloaded:\n",
      "\n",
      "    package                    |            build\n",
      "    ---------------------------|-----------------\n",
      "    blas-1.1                   |         openblas           1 KB  conda-forge\n",
      "    libblas-3.9.0              |1_h86c2bf4_netlib         199 KB  conda-forge\n",
      "    libcblas-3.9.0             |3_h92ddd45_netlib          54 KB  conda-forge\n",
      "    libgfortran-3.0.0          |                1         281 KB  conda-forge\n",
      "    liblapack-3.9.0            |3_h92ddd45_netlib         3.0 MB  conda-forge\n",
      "    openblas-0.3.3             |       ha44fe06_1        13.7 MB  conda-forge\n",
      "    scipy-1.2.0                |py36_blas_openblashb06ca3d_200        41.2 MB  conda-forge\n",
      "    ------------------------------------------------------------\n",
      "                                           Total:        58.4 MB\n",
      "\n",
      "The following NEW packages will be INSTALLED:\n",
      "\n",
      "  blas               conda-forge/linux-64::blas-1.1-openblas\n",
      "  libgfortran        conda-forge/linux-64::libgfortran-3.0.0-1\n",
      "  openblas           conda-forge/linux-64::openblas-0.3.3-ha44fe06_1\n",
      "  scipy              conda-forge/linux-64::scipy-1.2.0-py36_blas_openblashb06ca3d_200\n",
      "\n",
      "The following packages will be REMOVED:\n",
      "\n",
      "  libopenblas-0.3.12-pthreads_h4812303_1\n",
      "\n",
      "The following packages will be DOWNGRADED:\n",
      "\n",
      "  libblas                                  3.9.0-7_openblas --> 3.9.0-1_h86c2bf4_netlib\n",
      "  libcblas                                 3.9.0-7_openblas --> 3.9.0-3_h92ddd45_netlib\n",
      "  liblapack                                3.9.0-7_openblas --> 3.9.0-3_h92ddd45_netlib\n",
      "\n",
      "\n",
      "\n",
      "Downloading and Extracting Packages\n",
      "openblas-0.3.3       | 13.7 MB   | ##################################### | 100% \n",
      "liblapack-3.9.0      | 3.0 MB    | ##################################### | 100% \n",
      "libblas-3.9.0        | 199 KB    | ##################################### | 100% \n",
      "blas-1.1             | 1 KB      | ##################################### | 100% \n",
      "libcblas-3.9.0       | 54 KB     | ##################################### | 100% \n",
      "scipy-1.2.0          | 41.2 MB   | ##################################### | 100% \n",
      "libgfortran-3.0.0    | 281 KB    | ##################################### | 100% \n",
      "Preparing transaction: done\n",
      "Verifying transaction: done\n",
      "Executing transaction: done\n",
      "\n",
      "Note: you may need to restart the kernel to use updated packages.\n"
     ]
    }
   ],
   "source": [
    "conda install scipy==1.2.0"
   ]
  },
  {
   "cell_type": "code",
   "execution_count": 6,
   "metadata": {},
   "outputs": [
    {
     "name": "stdout",
     "output_type": "stream",
     "text": [
      "Collecting package metadata (current_repodata.json): done\n",
      "Solving environment: failed with initial frozen solve. Retrying with flexible solve.\n",
      "Collecting package metadata (repodata.json): done\n",
      "Solving environment: done\n",
      "\n",
      "## Package Plan ##\n",
      "\n",
      "  environment location: /srv/conda/envs/notebook\n",
      "\n",
      "  added / updated specs:\n",
      "    - seaborn==0.8.0\n",
      "\n",
      "\n",
      "The following packages will be downloaded:\n",
      "\n",
      "    package                    |            build\n",
      "    ---------------------------|-----------------\n",
      "    freetype-2.10.4            |       h0708190_1         890 KB  conda-forge\n",
      "    jpeg-9d                    |       h36c2ea0_0         264 KB  conda-forge\n",
      "    kiwisolver-1.3.1           |   py36h51d7077_0          86 KB  conda-forge\n",
      "    lcms2-2.11                 |       hcbb858e_1         434 KB  conda-forge\n",
      "    libpng-1.6.37              |       h21135ba_2         306 KB  conda-forge\n",
      "    libtiff-4.1.0              |       h4f3a223_6         618 KB  conda-forge\n",
      "    libwebp-base-1.2.0         |       h7f98852_0         808 KB  conda-forge\n",
      "    lz4-c-1.9.2                |       he1b5a44_3         203 KB  conda-forge\n",
      "    matplotlib-3.3.2           |                0           6 KB  conda-forge\n",
      "    matplotlib-base-3.3.2      |   py36he12231b_1         6.7 MB  conda-forge\n",
      "    olefile-0.46               |     pyh9f0ad1d_1          32 KB  conda-forge\n",
      "    patsy-0.5.1                |             py_0         187 KB  conda-forge\n",
      "    pillow-8.1.0               |   py36h4f9996e_1         675 KB  conda-forge\n",
      "    seaborn-0.8.0              |           py36_0         332 KB  conda-forge\n",
      "    statsmodels-0.12.1         |   py36h92226af_2        11.4 MB  conda-forge\n",
      "    zstd-1.4.5                 |       h6597ccf_2         712 KB  conda-forge\n",
      "    ------------------------------------------------------------\n",
      "                                           Total:        23.5 MB\n",
      "\n",
      "The following NEW packages will be INSTALLED:\n",
      "\n",
      "  freetype           conda-forge/linux-64::freetype-2.10.4-h0708190_1\n",
      "  jpeg               conda-forge/linux-64::jpeg-9d-h36c2ea0_0\n",
      "  kiwisolver         conda-forge/linux-64::kiwisolver-1.3.1-py36h51d7077_0\n",
      "  lcms2              conda-forge/linux-64::lcms2-2.11-hcbb858e_1\n",
      "  libpng             conda-forge/linux-64::libpng-1.6.37-h21135ba_2\n",
      "  libtiff            conda-forge/linux-64::libtiff-4.1.0-h4f3a223_6\n",
      "  libwebp-base       conda-forge/linux-64::libwebp-base-1.2.0-h7f98852_0\n",
      "  lz4-c              conda-forge/linux-64::lz4-c-1.9.2-he1b5a44_3\n",
      "  matplotlib         conda-forge/linux-64::matplotlib-3.3.2-0\n",
      "  matplotlib-base    conda-forge/linux-64::matplotlib-base-3.3.2-py36he12231b_1\n",
      "  olefile            conda-forge/noarch::olefile-0.46-pyh9f0ad1d_1\n",
      "  patsy              conda-forge/noarch::patsy-0.5.1-py_0\n",
      "  pillow             conda-forge/linux-64::pillow-8.1.0-py36h4f9996e_1\n",
      "  seaborn            conda-forge/linux-64::seaborn-0.8.0-py36_0\n",
      "  statsmodels        conda-forge/linux-64::statsmodels-0.12.1-py36h92226af_2\n",
      "  zstd               conda-forge/linux-64::zstd-1.4.5-h6597ccf_2\n",
      "\n",
      "\n",
      "\n",
      "Downloading and Extracting Packages\n",
      "matplotlib-3.3.2     | 6 KB      | ##################################### | 100% \n",
      "freetype-2.10.4      | 890 KB    | ##################################### | 100% \n",
      "seaborn-0.8.0        | 332 KB    | ##################################### | 100% \n",
      "lcms2-2.11           | 434 KB    | ##################################### | 100% \n",
      "lz4-c-1.9.2          | 203 KB    | ##################################### | 100% \n",
      "libtiff-4.1.0        | 618 KB    | ##################################### | 100% \n",
      "libpng-1.6.37        | 306 KB    | ##################################### | 100% \n",
      "olefile-0.46         | 32 KB     | ##################################### | 100% \n",
      "kiwisolver-1.3.1     | 86 KB     | ##################################### | 100% \n",
      "patsy-0.5.1          | 187 KB    | ##################################### | 100% \n",
      "zstd-1.4.5           | 712 KB    | ##################################### | 100% \n",
      "jpeg-9d              | 264 KB    | ##################################### | 100% \n",
      "pillow-8.1.0         | 675 KB    | ##################################### | 100% \n",
      "matplotlib-base-3.3. | 6.7 MB    | ##################################### | 100% \n",
      "libwebp-base-1.2.0   | 808 KB    | ##################################### | 100% \n",
      "statsmodels-0.12.1   | 11.4 MB   | ##################################### | 100% \n",
      "Preparing transaction: done\n",
      "Verifying transaction: done\n",
      "Executing transaction: done\n",
      "\n",
      "Note: you may need to restart the kernel to use updated packages.\n"
     ]
    }
   ],
   "source": [
    "conda install seaborn==0.8.0"
   ]
  },
  {
   "cell_type": "code",
   "execution_count": 7,
   "metadata": {},
   "outputs": [
    {
     "name": "stdout",
     "output_type": "stream",
     "text": [
      "Collecting package metadata (current_repodata.json): done\n",
      "Solving environment: done\n",
      "\n",
      "## Package Plan ##\n",
      "\n",
      "  environment location: /srv/conda/envs/notebook\n",
      "\n",
      "  added / updated specs:\n",
      "    - scikit-learn==0.22.1\n",
      "\n",
      "\n",
      "The following packages will be downloaded:\n",
      "\n",
      "    package                    |            build\n",
      "    ---------------------------|-----------------\n",
      "    joblib-1.0.0               |     pyhd8ed1ab_0         206 KB  conda-forge\n",
      "    scikit-learn-0.22.1        |   py36hcdab131_1         7.1 MB  conda-forge\n",
      "    ------------------------------------------------------------\n",
      "                                           Total:         7.3 MB\n",
      "\n",
      "The following NEW packages will be INSTALLED:\n",
      "\n",
      "  joblib             conda-forge/noarch::joblib-1.0.0-pyhd8ed1ab_0\n",
      "  scikit-learn       conda-forge/linux-64::scikit-learn-0.22.1-py36hcdab131_1\n",
      "\n",
      "\n",
      "\n",
      "Downloading and Extracting Packages\n",
      "scikit-learn-0.22.1  | 7.1 MB    | ##################################### | 100% \n",
      "joblib-1.0.0         | 206 KB    | ##################################### | 100% \n",
      "Preparing transaction: done\n",
      "Verifying transaction: done\n",
      "Executing transaction: done\n",
      "\n",
      "Note: you may need to restart the kernel to use updated packages.\n"
     ]
    }
   ],
   "source": [
    "conda install scikit-learn==0.22.1"
   ]
  },
  {
   "cell_type": "code",
   "execution_count": 8,
   "metadata": {},
   "outputs": [
    {
     "name": "stdout",
     "output_type": "stream",
     "text": [
      "Collecting package metadata (current_repodata.json): done\n",
      "Solving environment: done\n",
      "\n",
      "## Package Plan ##\n",
      "\n",
      "  environment location: /srv/conda/envs/notebook\n",
      "\n",
      "  added / updated specs:\n",
      "    - pystan\n",
      "\n",
      "\n",
      "The following packages will be downloaded:\n",
      "\n",
      "    package                    |            build\n",
      "    ---------------------------|-----------------\n",
      "    arviz-0.11.0               |     pyhd8ed1ab_0         1.4 MB  conda-forge\n",
      "    binutils_impl_linux-64-2.31.1|       h6176602_1         3.9 MB  defaults\n",
      "    binutils_linux-64-2.31.1   |       h6176602_9          26 KB  defaults\n",
      "    curl-7.71.1                |       he644dc0_3         140 KB  conda-forge\n",
      "    cython-0.29.21             |   py36ha357f81_1         2.1 MB  conda-forge\n",
      "    gcc_impl_linux-64-7.3.0    |       habb00fd_1        41.9 MB  defaults\n",
      "    gcc_linux-64-7.3.0         |       h553295d_9          27 KB  defaults\n",
      "    gxx_impl_linux-64-7.3.0    |       hdf63c60_1        15.0 MB  defaults\n",
      "    gxx_linux-64-7.3.0         |       h553295d_9          26 KB  defaults\n",
      "    hdf4-4.2.13                |    hf30be14_1003         964 KB  conda-forge\n",
      "    hdf5-1.10.1                |                2         5.0 MB  conda-forge\n",
      "    libnetcdf-4.4.1.1          |               10         2.0 MB  conda-forge\n",
      "    netcdf4-1.3.1              |           py36_1         2.9 MB  conda-forge\n",
      "    pystan-2.19.1.1            |   py36h7c3b610_2        17.3 MB  conda-forge\n",
      "    xarray-0.16.2              |     pyhd8ed1ab_0         546 KB  conda-forge\n",
      "    ------------------------------------------------------------\n",
      "                                           Total:        93.1 MB\n",
      "\n",
      "The following NEW packages will be INSTALLED:\n",
      "\n",
      "  arviz              conda-forge/noarch::arviz-0.11.0-pyhd8ed1ab_0\n",
      "  binutils_impl_lin~ pkgs/main/linux-64::binutils_impl_linux-64-2.31.1-h6176602_1\n",
      "  binutils_linux-64  pkgs/main/linux-64::binutils_linux-64-2.31.1-h6176602_9\n",
      "  curl               conda-forge/linux-64::curl-7.71.1-he644dc0_3\n",
      "  cython             conda-forge/linux-64::cython-0.29.21-py36ha357f81_1\n",
      "  gcc_impl_linux-64  pkgs/main/linux-64::gcc_impl_linux-64-7.3.0-habb00fd_1\n",
      "  gcc_linux-64       pkgs/main/linux-64::gcc_linux-64-7.3.0-h553295d_9\n",
      "  gxx_impl_linux-64  pkgs/main/linux-64::gxx_impl_linux-64-7.3.0-hdf63c60_1\n",
      "  gxx_linux-64       pkgs/main/linux-64::gxx_linux-64-7.3.0-h553295d_9\n",
      "  hdf4               conda-forge/linux-64::hdf4-4.2.13-hf30be14_1003\n",
      "  hdf5               conda-forge/linux-64::hdf5-1.10.1-2\n",
      "  libnetcdf          conda-forge/linux-64::libnetcdf-4.4.1.1-10\n",
      "  netcdf4            conda-forge/linux-64::netcdf4-1.3.1-py36_1\n",
      "  pystan             conda-forge/linux-64::pystan-2.19.1.1-py36h7c3b610_2\n",
      "  xarray             conda-forge/noarch::xarray-0.16.2-pyhd8ed1ab_0\n",
      "\n",
      "\n",
      "\n",
      "Downloading and Extracting Packages\n",
      "arviz-0.11.0         | 1.4 MB    | ##################################### | 100% \n",
      "pystan-2.19.1.1      | 17.3 MB   | ##################################### | 100% \n",
      "gxx_linux-64-7.3.0   | 26 KB     | ##################################### | 100% \n",
      "binutils_impl_linux- | 3.9 MB    | ##################################### | 100% \n",
      "gcc_impl_linux-64-7. | 41.9 MB   | ##################################### | 100% \n",
      "netcdf4-1.3.1        | 2.9 MB    | ##################################### | 100% \n",
      "xarray-0.16.2        | 546 KB    | ##################################### | 100% \n",
      "cython-0.29.21       | 2.1 MB    | ##################################### | 100% \n",
      "hdf4-4.2.13          | 964 KB    | ##################################### | 100% \n",
      "libnetcdf-4.4.1.1    | 2.0 MB    | ##################################### | 100% \n",
      "hdf5-1.10.1          | 5.0 MB    | ##################################### | 100% \n",
      "gxx_impl_linux-64-7. | 15.0 MB   | ##################################### | 100% \n",
      "curl-7.71.1          | 140 KB    | ##################################### | 100% \n",
      "binutils_linux-64-2. | 26 KB     | ##################################### | 100% \n",
      "gcc_linux-64-7.3.0   | 27 KB     | ##################################### | 100% \n",
      "Preparing transaction: done\n",
      "Verifying transaction: done\n",
      "Executing transaction: done\n",
      "\n",
      "Note: you may need to restart the kernel to use updated packages.\n"
     ]
    }
   ],
   "source": [
    "conda install pystan"
   ]
  },
  {
   "cell_type": "code",
   "execution_count": 9,
   "metadata": {},
   "outputs": [
    {
     "name": "stdout",
     "output_type": "stream",
     "text": [
      "Collecting package metadata (current_repodata.json): done\n",
      "Solving environment: failed with initial frozen solve. Retrying with flexible solve.\n",
      "Collecting package metadata (repodata.json): done\n",
      "Solving environment: done\n",
      "\n",
      "## Package Plan ##\n",
      "\n",
      "  environment location: /srv/conda/envs/notebook\n",
      "\n",
      "  added / updated specs:\n",
      "    - fbprophet==0.5\n",
      "\n",
      "\n",
      "The following packages will be downloaded:\n",
      "\n",
      "    package                    |            build\n",
      "    ---------------------------|-----------------\n",
      "    convertdate-2.3.0          |     pyhd8ed1ab_0          36 KB  conda-forge\n",
      "    fbprophet-0.5              |   py36he1b5a44_3         631 KB  conda-forge\n",
      "    holidays-0.9.11            |             py_0          39 KB  conda-forge\n",
      "    lunardate-0.2.0            |             py_0          21 KB  conda-forge\n",
      "    pymeeus-0.3.7              |     pyh9f0ad1d_0         515 KB  conda-forge\n",
      "    ------------------------------------------------------------\n",
      "                                           Total:         1.2 MB\n",
      "\n",
      "The following NEW packages will be INSTALLED:\n",
      "\n",
      "  convertdate        conda-forge/noarch::convertdate-2.3.0-pyhd8ed1ab_0\n",
      "  fbprophet          conda-forge/linux-64::fbprophet-0.5-py36he1b5a44_3\n",
      "  holidays           conda-forge/noarch::holidays-0.9.11-py_0\n",
      "  lunardate          conda-forge/noarch::lunardate-0.2.0-py_0\n",
      "  pymeeus            conda-forge/noarch::pymeeus-0.3.7-pyh9f0ad1d_0\n",
      "\n",
      "\n",
      "\n",
      "Downloading and Extracting Packages\n",
      "fbprophet-0.5        | 631 KB    | ##################################### | 100% \n",
      "lunardate-0.2.0      | 21 KB     | ##################################### | 100% \n",
      "holidays-0.9.11      | 39 KB     | ##################################### | 100% \n",
      "pymeeus-0.3.7        | 515 KB    | ##################################### | 100% \n",
      "convertdate-2.3.0    | 36 KB     | ##################################### | 100% \n",
      "Preparing transaction: done\n",
      "Verifying transaction: done\n",
      "Executing transaction: done\n",
      "\n",
      "Note: you may need to restart the kernel to use updated packages.\n"
     ]
    }
   ],
   "source": [
    "conda install -c conda-forge fbprophet==0.5"
   ]
  },
  {
   "cell_type": "markdown",
   "metadata": {},
   "source": [
    "Following code is from this link\n",
    "https://medium.com/analytics-vidhya/linear-regression-using-iris-dataset-hello-world-of-machine-learning-b0feecac9cc1"
   ]
  },
  {
   "cell_type": "code",
   "execution_count": 11,
   "metadata": {},
   "outputs": [],
   "source": [
    "import pandas as pd"
   ]
  },
  {
   "cell_type": "code",
   "execution_count": 13,
   "metadata": {},
   "outputs": [],
   "source": [
    "# Import Dataset from sklearn\n",
    "from sklearn.datasets import load_iris\n",
    "# Load Iris Data\n",
    "iris = load_iris()\n",
    "# Creating pd DataFrames\n",
    "iris_df = pd.DataFrame(data= iris.data, columns= iris.feature_names)\n",
    "target_df = pd.DataFrame(data= iris.target, columns= ['species'])\n",
    "def converter(specie):\n",
    "    if specie == 0:\n",
    "        return 'setosa'\n",
    "    elif specie == 1:\n",
    "        return 'versicolor'\n",
    "    else:\n",
    "        return 'virginica'\n",
    "target_df['species'] = target_df['species'].apply(converter)\n",
    "# Concatenate the DataFrames\n",
    "iris_df = pd.concat([iris_df, target_df], axis= 1)"
   ]
  },
  {
   "cell_type": "code",
   "execution_count": 14,
   "metadata": {},
   "outputs": [
    {
     "data": {
      "text/html": [
       "<div>\n",
       "<style scoped>\n",
       "    .dataframe tbody tr th:only-of-type {\n",
       "        vertical-align: middle;\n",
       "    }\n",
       "\n",
       "    .dataframe tbody tr th {\n",
       "        vertical-align: top;\n",
       "    }\n",
       "\n",
       "    .dataframe thead th {\n",
       "        text-align: right;\n",
       "    }\n",
       "</style>\n",
       "<table border=\"1\" class=\"dataframe\">\n",
       "  <thead>\n",
       "    <tr style=\"text-align: right;\">\n",
       "      <th></th>\n",
       "      <th>sepal length (cm)</th>\n",
       "      <th>sepal width (cm)</th>\n",
       "      <th>petal length (cm)</th>\n",
       "      <th>petal width (cm)</th>\n",
       "    </tr>\n",
       "  </thead>\n",
       "  <tbody>\n",
       "    <tr>\n",
       "      <th>count</th>\n",
       "      <td>150.000000</td>\n",
       "      <td>150.000000</td>\n",
       "      <td>150.000000</td>\n",
       "      <td>150.000000</td>\n",
       "    </tr>\n",
       "    <tr>\n",
       "      <th>mean</th>\n",
       "      <td>5.843333</td>\n",
       "      <td>3.057333</td>\n",
       "      <td>3.758000</td>\n",
       "      <td>1.199333</td>\n",
       "    </tr>\n",
       "    <tr>\n",
       "      <th>std</th>\n",
       "      <td>0.828066</td>\n",
       "      <td>0.435866</td>\n",
       "      <td>1.765298</td>\n",
       "      <td>0.762238</td>\n",
       "    </tr>\n",
       "    <tr>\n",
       "      <th>min</th>\n",
       "      <td>4.300000</td>\n",
       "      <td>2.000000</td>\n",
       "      <td>1.000000</td>\n",
       "      <td>0.100000</td>\n",
       "    </tr>\n",
       "    <tr>\n",
       "      <th>25%</th>\n",
       "      <td>5.100000</td>\n",
       "      <td>2.800000</td>\n",
       "      <td>1.600000</td>\n",
       "      <td>0.300000</td>\n",
       "    </tr>\n",
       "    <tr>\n",
       "      <th>50%</th>\n",
       "      <td>5.800000</td>\n",
       "      <td>3.000000</td>\n",
       "      <td>4.350000</td>\n",
       "      <td>1.300000</td>\n",
       "    </tr>\n",
       "    <tr>\n",
       "      <th>75%</th>\n",
       "      <td>6.400000</td>\n",
       "      <td>3.300000</td>\n",
       "      <td>5.100000</td>\n",
       "      <td>1.800000</td>\n",
       "    </tr>\n",
       "    <tr>\n",
       "      <th>max</th>\n",
       "      <td>7.900000</td>\n",
       "      <td>4.400000</td>\n",
       "      <td>6.900000</td>\n",
       "      <td>2.500000</td>\n",
       "    </tr>\n",
       "  </tbody>\n",
       "</table>\n",
       "</div>"
      ],
      "text/plain": [
       "       sepal length (cm)  sepal width (cm)  petal length (cm)  \\\n",
       "count         150.000000        150.000000         150.000000   \n",
       "mean            5.843333          3.057333           3.758000   \n",
       "std             0.828066          0.435866           1.765298   \n",
       "min             4.300000          2.000000           1.000000   \n",
       "25%             5.100000          2.800000           1.600000   \n",
       "50%             5.800000          3.000000           4.350000   \n",
       "75%             6.400000          3.300000           5.100000   \n",
       "max             7.900000          4.400000           6.900000   \n",
       "\n",
       "       petal width (cm)  \n",
       "count        150.000000  \n",
       "mean           1.199333  \n",
       "std            0.762238  \n",
       "min            0.100000  \n",
       "25%            0.300000  \n",
       "50%            1.300000  \n",
       "75%            1.800000  \n",
       "max            2.500000  "
      ]
     },
     "execution_count": 14,
     "metadata": {},
     "output_type": "execute_result"
    }
   ],
   "source": [
    "iris_df.describe()\n"
   ]
  },
  {
   "cell_type": "code",
   "execution_count": 16,
   "metadata": {},
   "outputs": [],
   "source": [
    "import seaborn as sns"
   ]
  },
  {
   "cell_type": "code",
   "execution_count": 17,
   "metadata": {},
   "outputs": [
    {
     "data": {
      "text/plain": [
       "<seaborn.axisgrid.PairGrid at 0x7f4d2b0c3b00>"
      ]
     },
     "execution_count": 17,
     "metadata": {},
     "output_type": "execute_result"
    },
    {
     "data": {
      "image/png": "[encoded data removed]",
      "text/plain": [
       "<Figure size 804.75x720 with 20 Axes>"
      ]
     },
     "metadata": {
      "needs_background": "light"
     },
     "output_type": "display_data"
    }
   ],
   "source": [
    "sns.pairplot(iris_df, hue= 'species')\n"
   ]
  },
  {
   "cell_type": "code",
   "execution_count": 29,
   "metadata": {},
   "outputs": [],
   "source": [
    "from sklearn.model_selection import train_test_split\n",
    "from sklearn.linear_model import LinearRegression\n",
    "from sklearn.metrics import mean_absolute_error, mean_squared_error\n",
    "import numpy as np"
   ]
  },
  {
   "cell_type": "code",
   "execution_count": 30,
   "metadata": {},
   "outputs": [
    {
     "name": "stdout",
     "output_type": "stream",
     "text": [
      "Mean Absolute Error: 0.25955709755630346\n",
      "Mean Squared Error: 0.10174529564238952\n",
      "Mean Root Squared Error: 0.3189753840696638\n"
     ]
    }
   ],
   "source": [
    "# Converting Objects to Numerical dtype\n",
    "iris_df.drop('species', axis= 1, inplace= True)\n",
    "target_df = pd.DataFrame(columns= ['species'], data= iris.target)\n",
    "iris_df = pd.concat([iris_df, target_df], axis= 1)\n",
    "# Variables\n",
    "X= iris_df.drop(labels= 'sepal length (cm)', axis= 1)\n",
    "y= iris_df['sepal length (cm)']\n",
    "\n",
    "# Splitting the Dataset \n",
    "X_train, X_test, y_train, y_test = train_test_split(X, y, test_size= 0.33, random_state= 101)\n",
    "\n",
    "# Instantiating LinearRegression() Model\n",
    "lr = LinearRegression()\n",
    "\n",
    "# Training/Fitting the Model\n",
    "lr.fit(X_train, y_train)\n",
    "\n",
    "# Making Predictions\n",
    "lr.predict(X_test)\n",
    "pred = lr.predict(X_test)\n",
    "\n",
    "# Evaluating Model's Performance\n",
    "print('Mean Absolute Error:', mean_absolute_error(y_test, pred))\n",
    "print('Mean Squared Error:', mean_squared_error(y_test, pred))\n",
    "print('Mean Root Squared Error:', np.sqrt(mean_squared_error(y_test, pred)))"
   ]
  },
  {
   "cell_type": "code",
   "execution_count": 31,
   "metadata": {},
   "outputs": [
    {
     "data": {
      "text/plain": [
       "sepal length (cm)    4.6\n",
       "sepal width (cm)     3.4\n",
       "petal length (cm)    1.4\n",
       "petal width (cm)     0.3\n",
       "species              0.0\n",
       "Name: 6, dtype: float64"
      ]
     },
     "execution_count": 31,
     "metadata": {},
     "output_type": "execute_result"
    }
   ],
   "source": [
    "iris_df.loc[6]\n"
   ]
  },
  {
   "cell_type": "code",
   "execution_count": 32,
   "metadata": {},
   "outputs": [
    {
     "data": {
      "text/html": [
       "<div>\n",
       "<style scoped>\n",
       "    .dataframe tbody tr th:only-of-type {\n",
       "        vertical-align: middle;\n",
       "    }\n",
       "\n",
       "    .dataframe tbody tr th {\n",
       "        vertical-align: top;\n",
       "    }\n",
       "\n",
       "    .dataframe thead th {\n",
       "        text-align: right;\n",
       "    }\n",
       "</style>\n",
       "<table border=\"1\" class=\"dataframe\">\n",
       "  <thead>\n",
       "    <tr style=\"text-align: right;\">\n",
       "      <th></th>\n",
       "      <th>sepal length (cm)</th>\n",
       "      <th>sepal width (cm)</th>\n",
       "      <th>petal length (cm)</th>\n",
       "      <th>petal width (cm)</th>\n",
       "      <th>species</th>\n",
       "    </tr>\n",
       "  </thead>\n",
       "  <tbody>\n",
       "    <tr>\n",
       "      <th>0</th>\n",
       "      <td>4.6</td>\n",
       "      <td>3.4</td>\n",
       "      <td>1.4</td>\n",
       "      <td>0.3</td>\n",
       "      <td>0</td>\n",
       "    </tr>\n",
       "  </tbody>\n",
       "</table>\n",
       "</div>"
      ],
      "text/plain": [
       "   sepal length (cm)  sepal width (cm)  petal length (cm)  petal width (cm)  \\\n",
       "0                4.6               3.4                1.4               0.3   \n",
       "\n",
       "   species  \n",
       "0        0  "
      ]
     },
     "execution_count": 32,
     "metadata": {},
     "output_type": "execute_result"
    }
   ],
   "source": [
    "d = {'sepal length (cm)' : [4.6],\n",
    "    'sepal width (cm)' : [3.4],\n",
    "    'petal length (cm)' : [1.4],\n",
    "    'petal width (cm)' : [0.3],\n",
    "    'species' : 0}\n",
    "test_df = pd.DataFrame(data= d)\n",
    "test_df"
   ]
  },
  {
   "cell_type": "code",
   "execution_count": 33,
   "metadata": {},
   "outputs": [
    {
     "name": "stdout",
     "output_type": "stream",
     "text": [
      "Predicted Sepal Length (cm): 5.461145872156034\n",
      "Actual Sepal Length (cm): 4.6\n"
     ]
    }
   ],
   "source": [
    "pred = lr.predict(X_test)\n",
    "print('Predicted Sepal Length (cm):', pred[0])\n",
    "print('Actual Sepal Length (cm):', 4.6)"
   ]
  },
  {
   "cell_type": "code",
   "execution_count": null,
   "metadata": {},
   "outputs": [],
   "source": []
  }
 ],
 "metadata": {
  "kernelspec": {
   "display_name": "Python 3",
   "language": "python",
   "name": "python3"
  },
  "language_info": {
   "codemirror_mode": {
    "name": "ipython",
    "version": 3
   },
   "file_extension": ".py",
   "mimetype": "text/x-python",
   "name": "python",
   "nbconvert_exporter": "python",
   "pygments_lexer": "ipython3",
   "version": "3.6.11"
  }
 },
 "nbformat": 4,
 "nbformat_minor": 2
}
